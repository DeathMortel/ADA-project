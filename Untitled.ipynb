{
 "cells": [
  {
   "cell_type": "code",
   "execution_count": 1,
   "id": "30ac18b4",
   "metadata": {},
   "outputs": [],
   "source": [
    "import numpy as np\n",
    "import pandas as pd\n",
    "from sklearn.decomposition import PCA\n",
    "import seaborn as sns\n",
    "from sklearn.linear_model import LogisticRegression\n",
    "from sklearn.svm import SVC\n",
    "from sklearn.pipeline import make_pipeline\n",
    "from sklearn.preprocessing import StandardScaler"
   ]
  },
  {
   "cell_type": "code",
   "execution_count": 2,
   "id": "9ca4a8f7",
   "metadata": {},
   "outputs": [],
   "source": [
    "def PCA(dataframe, n_components=2):\n",
    "    flatguy = PCA(n_components = n_components)\n",
    "    return flatguy.fit(dataframe)\n",
    "def plotPCA(dataframe, labels):\n",
    "    \"\"\"\n",
    "    dataframe: the datatable (np array)\n",
    "    labels: the labels (used for display)\n",
    "    \"\"\"\n",
    "    sns.scatterplot(PCA(dataframe))"
   ]
  },
  {
   "cell_type": "code",
   "execution_count": 3,
   "id": "55e24e2e",
   "metadata": {},
   "outputs": [],
   "source": [
    "def classifierSVM(dataframe, labels, reg=1):\n",
    "    svm = SVC(kernel=\"linear\", C= reg)\n",
    "    return make_pipeline(svm, StandardScaler).fit(dataframe, labels)"
   ]
  },
  {
   "cell_type": "code",
   "execution_count": 4,
   "id": "04a4974e",
   "metadata": {},
   "outputs": [],
   "source": [
    "def Logistic_reg(dataframe, labels):\n",
    "    return LogisticRegression(RandomState = 1).fit(dataframe, labels)"
   ]
  },
  {
   "cell_type": "code",
   "execution_count": null,
   "id": "7ab176d4",
   "metadata": {},
   "outputs": [],
   "source": []
  }
 ],
 "metadata": {
  "kernelspec": {
   "display_name": "Python 3 (ipykernel)",
   "language": "python",
   "name": "python3"
  },
  "language_info": {
   "codemirror_mode": {
    "name": "ipython",
    "version": 3
   },
   "file_extension": ".py",
   "mimetype": "text/x-python",
   "name": "python",
   "nbconvert_exporter": "python",
   "pygments_lexer": "ipython3",
   "version": "3.9.5"
  }
 },
 "nbformat": 4,
 "nbformat_minor": 5
}
